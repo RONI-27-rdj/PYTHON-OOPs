{
  "nbformat": 4,
  "nbformat_minor": 0,
  "metadata": {
    "colab": {
      "provenance": []
    },
    "kernelspec": {
      "name": "python3",
      "display_name": "Python 3"
    },
    "language_info": {
      "name": "python"
    }
  },
  "cells": [
    {
      "cell_type": "markdown",
      "source": [
        "# PYTHON OOPs{ASSIGNMENT THEORY}"
      ],
      "metadata": {
        "id": "bk_TG16AYEHi"
      }
    },
    {
      "cell_type": "markdown",
      "source": [
        "# QUESTION 1  What is Object-Oriented Programming (OOP)?"
      ],
      "metadata": {
        "id": "W2-3Ri-OYLOq"
      }
    },
    {
      "cell_type": "markdown",
      "source": [
        "-> Object-Oriented Programming (OOP) is a programming paradigm that revolves around the concept of objects and classes. It's a way of designing and organizing code that simulates real-world objects and systems.\n"
      ],
      "metadata": {
        "id": "3ckEGdW8YSSz"
      }
    },
    {
      "cell_type": "markdown",
      "source": [
        "# QUESTION 2 What is a class in OOP?"
      ],
      "metadata": {
        "id": "jBqw7xu6Ydqc"
      }
    },
    {
      "cell_type": "markdown",
      "source": [
        "-> In Object-Oriented Programming (OOP), a class is a blueprint or template that defines the properties and behavior of an object. It's a abstract representation of an object, and it defines the characteristics and actions that an object of that class can have.\n"
      ],
      "metadata": {
        "id": "uq1k4MOHYqTG"
      }
    },
    {
      "cell_type": "markdown",
      "source": [
        "# QUESTION 3 What is an object in OOP?"
      ],
      "metadata": {
        "id": "INzHSnV4YtFH"
      }
    },
    {
      "cell_type": "markdown",
      "source": [
        "-> In Object-Oriented Programming (OOP), an object is an instance of a class. It represents a real-world entity or concept and has its own set of attributes (data) and methods (functions).\n"
      ],
      "metadata": {
        "id": "iwP0V9zOYz2o"
      }
    },
    {
      "cell_type": "markdown",
      "source": [
        "# QUESTION 4 What is the difference between abstraction and encapsulation?"
      ],
      "metadata": {
        "id": "AX3hl7gTY74J"
      }
    },
    {
      "cell_type": "markdown",
      "source": [
        "-> Abstraction and encapsulation are two fundamental concepts in Object-Oriented Programming (OOP) that are often used together, but they serve different purposes.\n",
        "\n",
        "**Abstraction**\n",
        "\n",
        "Abstraction is the concept of showing only the necessary information to the outside world while hiding the implementation details. It's about defining an interface or a contract that specifies what an object can do, without revealing how it does it.\n",
        "\n",
        "**Encapsulation**\n",
        "\n",
        "Encapsulation is the concept of bundling data and methods that operate on that data within a single unit, such as a class or object. It's about hiding the data from the outside world and controlling access to it through methods.\n"
      ],
      "metadata": {
        "id": "k_l-wvT2ZAnR"
      }
    },
    {
      "cell_type": "markdown",
      "source": [
        "# QIUESTION 5 What are dunder methods in Python?"
      ],
      "metadata": {
        "id": "pKTzZBxVZJPE"
      }
    },
    {
      "cell_type": "markdown",
      "source": [
        "-> Dunder methods, short for \"double underscore\" methods, are special methods in Python that are surrounded by double underscores (__) on either side of the method name. These methods are also known as \"magic methods\" or \"special methods.\"\n"
      ],
      "metadata": {
        "id": "PtV5cKidZORc"
      }
    },
    {
      "cell_type": "markdown",
      "source": [
        "# QUESTION 6 Explain the concept of inheritance in OOP."
      ],
      "metadata": {
        "id": "hta17UItZZtV"
      }
    },
    {
      "cell_type": "markdown",
      "source": [
        "-> Inheritance is a fundamental concept in Object-Oriented Programming (OOP) that allows one class to inherit the properties and behavior of another class. The inheriting class is called the subclass or derived class, while the class being inherited from is called the superclass or base class.\n",
        "\n",
        "**Key Concepts**\n",
        "\n",
        "1. Superclass: The class being inherited from.\n",
        "2. Subclass: The class that inherits from the superclass.\n",
        "3. Inheritance: The process of creating a new class based on an existing class.\n"
      ],
      "metadata": {
        "id": "zlvmRrytZgmd"
      }
    },
    {
      "cell_type": "markdown",
      "source": [
        "# QUESTION 7  What is polymorphism in OOP?"
      ],
      "metadata": {
        "id": "SnTpw8JeZpSn"
      }
    },
    {
      "cell_type": "markdown",
      "source": [
        "-> Polymorphism is a fundamental concept in Object-Oriented Programming (OOP) that allows objects of different classes to be treated as objects of a common superclass. It's the ability of an object to take on multiple forms, depending on the context in which it's used.\n"
      ],
      "metadata": {
        "id": "iMddQZjmZyxR"
      }
    },
    {
      "cell_type": "markdown",
      "source": [
        "# QUESTION 8 How is encapsulation achieved in Python?"
      ],
      "metadata": {
        "id": "Yd7ycOGxZ6xR"
      }
    },
    {
      "cell_type": "markdown",
      "source": [
        "-> Encapsulation is achieved in Python by using classes and objects to bundle data and methods that operate on that data. Python provides several ways to achieve encapsulation, including:\n",
        "\n",
        "1. **Public attributes**: Attributes that are accessible from anywhere in the program.\n",
        "2. **Private attributes**: Attributes that are prefixed with double underscore (__) and are not directly accessible from outside the class.\n",
        "3. **Protected attributes**: Attributes that are prefixed with single underscore (_) and are intended to be private, but are still accessible from outside the class.\n"
      ],
      "metadata": {
        "id": "VfrWDqBTaAmq"
      }
    },
    {
      "cell_type": "markdown",
      "source": [
        "# QUESTION 9 What is a constructor in Python?"
      ],
      "metadata": {
        "id": "B9rvWvKcaO9U"
      }
    },
    {
      "cell_type": "markdown",
      "source": [
        "-> A constructor in Python is a special method that is called when an object of a class is instantiated (created). It's used to initialize the attributes of the class and set up the object's state.\n",
        "\n",
        "*__init__ Method*\n",
        "\n",
        "In Python, the constructor is defined using the __init__ method. This method is called automatically when an object is created from the class.\n"
      ],
      "metadata": {
        "id": "LApoVx_CaVGl"
      }
    },
    {
      "cell_type": "markdown",
      "source": [
        "# QUESTION 10  What are class and static methods in Python?"
      ],
      "metadata": {
        "id": "i0rVo9fHailX"
      }
    },
    {
      "cell_type": "markdown",
      "source": [
        "-> In Python, class methods and static methods are two types of methods that can be used in classes.\n",
        "\n",
        "**Class Methods**\n",
        "\n",
        "A class method is a method that is bound to the class rather than an instance of the class. It's used to define methods that operate on the class itself, rather than on instances of the class.\n"
      ],
      "metadata": {
        "id": "1uF4PEbQapDH"
      }
    },
    {
      "cell_type": "code",
      "source": [
        "class MyClass:\n",
        "    count = 0\n",
        "\n",
        "    def __init__(self):\n",
        "        MyClass.count += 1\n",
        "\n",
        "    @classmethod\n",
        "    def get_count(cls):\n",
        "        return cls.count\n",
        "\n",
        "obj1 = MyClass()\n",
        "obj2 = MyClass()\n",
        "print(MyClass.get_count())\n"
      ],
      "metadata": {
        "colab": {
          "base_uri": "https://localhost:8080/"
        },
        "id": "GqwG40oCazmq",
        "outputId": "c255d6f0-fa18-405a-b43a-e52cbe1e6e9d"
      },
      "execution_count": 2,
      "outputs": [
        {
          "output_type": "stream",
          "name": "stdout",
          "text": [
            "2\n"
          ]
        }
      ]
    },
    {
      "cell_type": "markdown",
      "source": [
        "**Static Methods**\n",
        "\n",
        "A static method is a method that belongs to a class rather than an instance of the class. It's used to define methods that don't depend on the state of the class or instance.\n",
        "\n",
        "\n",
        ""
      ],
      "metadata": {
        "id": "OXDLAU-pa9_7"
      }
    },
    {
      "cell_type": "code",
      "source": [
        "class MathUtils:\n",
        "    @staticmethod\n",
        "    def add(a, b):\n",
        "        return a + b\n",
        "\n",
        "print(MathUtils.add(2, 3))"
      ],
      "metadata": {
        "colab": {
          "base_uri": "https://localhost:8080/"
        },
        "id": "5awPGVUybGO7",
        "outputId": "252ec63e-6589-437f-8acf-d6a6e848a6fc"
      },
      "execution_count": 3,
      "outputs": [
        {
          "output_type": "stream",
          "name": "stdout",
          "text": [
            "5\n"
          ]
        }
      ]
    },
    {
      "cell_type": "markdown",
      "source": [
        "# QUESTION 11 What is method overloading in Python?\n"
      ],
      "metadata": {
        "id": "9SU6l4KbbMgl"
      }
    },
    {
      "cell_type": "markdown",
      "source": [
        "-> Method overloading is a feature in some programming languages that allows multiple methods with the same name to be defined, but with different parameter lists. However, Python does not support method overloading in the classical sense.\n",
        "\n"
      ],
      "metadata": {
        "id": "j1ayIpcIbUtG"
      }
    },
    {
      "cell_type": "markdown",
      "source": [
        "# QUESTION 12 What is method overriding in OOP?"
      ],
      "metadata": {
        "id": "DRuPxL6zbcln"
      }
    },
    {
      "cell_type": "markdown",
      "source": [
        "-> Method overriding is a feature in Object-Oriented Programming (OOP) that allows a subclass to provide a different implementation of a method that's already defined in its superclass. The method in the subclass has the same name, return type, and parameter list as the method in the superclass, but it can have a different implementation.\n"
      ],
      "metadata": {
        "id": "Pbwu7IR1cQOu"
      }
    },
    {
      "cell_type": "markdown",
      "source": [
        "# QUESTION 13 What is a property decorator in Python?"
      ],
      "metadata": {
        "id": "M0cZXL3dcX_Q"
      }
    },
    {
      "cell_type": "markdown",
      "source": [
        "-> A property decorator in Python is a way to customize access to instance data. It allows you to define getter, setter, and deleter methods for instance attributes, which can be used to implement validation, calculation, or other logic.\n"
      ],
      "metadata": {
        "id": "uumKCkVucdZP"
      }
    },
    {
      "cell_type": "markdown",
      "source": [
        "# QUESTION 14 Why is polymorphism important in OOP?"
      ],
      "metadata": {
        "id": "8Sj9nzWKdPgn"
      }
    },
    {
      "cell_type": "markdown",
      "source": [
        "-> Polymorphism is a fundamental concept in Object-Oriented Programming (OOP) that allows objects of different classes to be treated as objects of a common superclass. Polymorphism is important in OOP because it:\n",
        "\n",
        "1. **Increases flexibility**: Polymorphism allows developers to write more flexible code that can work with objects of different classes.\n",
        "2. **Improves modularity**: Polymorphism helps to improve modularity by allowing developers to write code that is independent of specific classes.\n",
        "3. **Reduces code duplication**: Polymorphism reduces code duplication by allowing developers to write code that can work with objects of different classes.\n",
        "4. **Enhances extensibility**: Polymorphism makes it easier to extend existing code by adding new classes that can be treated as objects of a common superclass.\n"
      ],
      "metadata": {
        "id": "YGwYOojEdX1X"
      }
    },
    {
      "cell_type": "markdown",
      "source": [
        "# QUESTION 15 What is an abstract class in Python?"
      ],
      "metadata": {
        "id": "1PvjoYAQdmXy"
      }
    },
    {
      "cell_type": "markdown",
      "source": [
        "-> An abstract class in Python is a class that cannot be instantiated and is designed to be inherited by other classes. Abstract classes are used to define a blueprint for other classes to follow, and they can include both abstract methods (methods without implementation) and concrete methods (methods with implementation).\n"
      ],
      "metadata": {
        "id": "yGbzSRERdr-L"
      }
    },
    {
      "cell_type": "markdown",
      "source": [
        "# QUESTION 16  What are the advantages of OOP?"
      ],
      "metadata": {
        "id": "ZL4HpgZ4d8_d"
      }
    },
    {
      "cell_type": "markdown",
      "source": [
        "-> Object-Oriented Programming (OOP) offers several advantages that make it a popular programming paradigm. Some of the key advantages of OOP include:\n",
        "\n",
        "1. **Modularity**: OOP allows developers to break down a complex system into smaller, independent modules (classes and objects) that can be developed, tested, and maintained separately.\n",
        "2. **Reusability**: OOP enables developers to reuse code by creating classes and objects that can be used in multiple contexts.\n",
        "3. **Abstraction**: OOP provides a way to abstract complex systems and focus on essential features and behaviors.\n",
        "4. **Encapsulation**: OOP allows developers to encapsulate data and behavior within objects, making it easier to modify or extend existing code without affecting other parts of the system.\n",
        "5. **Inheritance**: OOP enables developers to create a hierarchy of classes, where subclasses can inherit properties and behavior from parent classes.\n",
        "6. **Polymorphism**: OOP allows developers to write code that can work with objects of different classes, making it easier to write generic and flexible code.\n",
        "7. **Easier maintenance**: OOP makes it easier to maintain and modify existing code by providing a clear and organized structure.\n",
        "8. **Improved readability**: OOP can improve code readability by providing a clear and concise way to represent complex systems.\n"
      ],
      "metadata": {
        "id": "y1YYoaiAeGau"
      }
    },
    {
      "cell_type": "markdown",
      "source": [
        "# QUESTION 17 What is the difference between a class variable and an instance variable?"
      ],
      "metadata": {
        "id": "r_Nz_BsTeZx7"
      }
    },
    {
      "cell_type": "markdown",
      "source": [
        "-> In Python, class variables and instance variables are two types of variables that can be used in classes.\n",
        "\n",
        "**Class Variables**\n",
        "\n",
        "Class variables are variables that are shared by all instances of a class. They are defined at the class level and are accessible through the class name or any instance of the class.\n",
        "\n",
        "\n",
        "\n"
      ],
      "metadata": {
        "id": "F9O9tzOKegkp"
      }
    },
    {
      "cell_type": "code",
      "source": [
        "class MyClass:\n",
        "    class_variable = \"I'm a class variable\"\n",
        "\n",
        "print(MyClass.class_variable)\n",
        "obj1 = MyClass()\n",
        "obj2 = MyClass()\n",
        "\n",
        "print(obj1.class_variable)\n",
        "print(obj2.class_variable)\n",
        "\n"
      ],
      "metadata": {
        "colab": {
          "base_uri": "https://localhost:8080/"
        },
        "id": "ScS9FrYGerz1",
        "outputId": "7616a5f4-c378-419e-8ce5-6439f38c62c7"
      },
      "execution_count": 5,
      "outputs": [
        {
          "output_type": "stream",
          "name": "stdout",
          "text": [
            "I'm a class variable\n",
            "I'm a class variable\n",
            "I'm a class variable\n"
          ]
        }
      ]
    },
    {
      "cell_type": "markdown",
      "source": [
        "**Instance Variables**\n",
        "\n",
        "Instance variables are variables that are unique to each instance of a class. They are defined at the instance level and are accessible only through the instance.\n",
        "\n",
        "\n",
        "\n"
      ],
      "metadata": {
        "id": "S5XD6Al3e5EW"
      }
    },
    {
      "cell_type": "code",
      "source": [
        "class MyClass:\n",
        "    def __init__(self, instance_variable):\n",
        "        self.instance_variable = instance_variable\n",
        "\n",
        "obj1 = MyClass(\"I'm obj1's instance variable\")\n",
        "obj2 = MyClass(\"I'm obj2's instance variable\")\n",
        "\n",
        "print(obj1.instance_variable)\n",
        "print(obj2.instance_variable)\n",
        "\n"
      ],
      "metadata": {
        "colab": {
          "base_uri": "https://localhost:8080/"
        },
        "id": "g1N_SrnifA7m",
        "outputId": "93d48737-d961-4c8e-89fd-37e4d496c44f"
      },
      "execution_count": 6,
      "outputs": [
        {
          "output_type": "stream",
          "name": "stdout",
          "text": [
            "I'm obj1's instance variable\n",
            "I'm obj2's instance variable\n"
          ]
        }
      ]
    },
    {
      "cell_type": "markdown",
      "source": [
        "# QUESTION 18 What is multiple inheritance in Python?"
      ],
      "metadata": {
        "id": "UudsFqkvfHjP"
      }
    },
    {
      "cell_type": "markdown",
      "source": [
        "-> Multiple inheritance is a feature in Python that allows a class to inherit properties and behavior from multiple parent classes. This means that a child class can inherit attributes and methods from more than one parent class."
      ],
      "metadata": {
        "id": "1rINI3wwfNs4"
      }
    },
    {
      "cell_type": "markdown",
      "source": [
        "# QUESTION 19  Explain the purpose of ‘’__str__’ and ‘__repr__’ ‘ methods in Python."
      ],
      "metadata": {
        "id": "4WKEuCGefa46"
      }
    },
    {
      "cell_type": "markdown",
      "source": [
        "-> In Python, the __str__ and __repr__ methods are used to provide a string representation of an object.\n",
        "\n",
        "**__str__ Method**\n",
        "\n",
        "The __str__ method is used to return a human-readable string representation of an object. It's typically used for display purposes, such as printing the object.\n",
        "\n",
        "\n",
        "\n"
      ],
      "metadata": {
        "id": "VUN9NRGrfg_D"
      }
    },
    {
      "cell_type": "code",
      "source": [
        "class Person:\n",
        "    def __init__(self, name, age):\n",
        "        self.name = name\n",
        "        self.age = age\n",
        "\n",
        "    def __str__(self):\n",
        "        return f\"{self.name}, {self.age} years old\"\n",
        "\n",
        "person = Person(\"Ravi Kumar\", 25)\n",
        "print(person)\n"
      ],
      "metadata": {
        "colab": {
          "base_uri": "https://localhost:8080/"
        },
        "id": "-1hK2qZVf0W9",
        "outputId": "345b4936-c3aa-4e23-a54e-3e46fce9eb62"
      },
      "execution_count": 7,
      "outputs": [
        {
          "output_type": "stream",
          "name": "stdout",
          "text": [
            "Ravi Kumar, 25 years old\n"
          ]
        }
      ]
    },
    {
      "cell_type": "markdown",
      "source": [
        "**__repr__ Method**\n",
        "\n",
        "The __repr__ method is used to return a string representation of an object that's useful for debugging and logging purposes. It's typically used to provide a more detailed and accurate representation of the object.\n",
        "\n",
        "\n"
      ],
      "metadata": {
        "id": "J99jdD4gf_pP"
      }
    },
    {
      "cell_type": "code",
      "source": [
        "class Person:\n",
        "    def __init__(self, name, age):\n",
        "        self.name = name\n",
        "        self.age = age\n",
        "\n",
        "    def __repr__(self):\n",
        "        return f\"Person(name='{self.name}', age={self.age})\"\n",
        "\n",
        "person = Person(\"Ravi Kumar\", 25)\n",
        "print(repr(person))\n"
      ],
      "metadata": {
        "colab": {
          "base_uri": "https://localhost:8080/"
        },
        "id": "FAC92FDHgc2D",
        "outputId": "2c822fc2-1882-45b4-8ff6-8c762a34bc18"
      },
      "execution_count": 8,
      "outputs": [
        {
          "output_type": "stream",
          "name": "stdout",
          "text": [
            "Person(name='Ravi Kumar', age=25)\n"
          ]
        }
      ]
    },
    {
      "cell_type": "markdown",
      "source": [
        "# QUESTION 20 What is the significance of the ‘super()’ function in Python?"
      ],
      "metadata": {
        "id": "Oohg5DoQgvv2"
      }
    },
    {
      "cell_type": "markdown",
      "source": [
        "-> The super() function in Python is used to give access to methods and properties of a parent or sibling class. It returns a temporary object of the superclass that allows access to its methods.\n",
        "\n",
        "**Purpose**\n",
        "\n",
        "The super() function is used to:\n",
        "\n",
        "1. **Override methods**: Override methods of the parent class while still calling the parent class's method.\n",
        "2. **Extend behavior**: Extend the behavior of the parent class by adding new functionality.\n",
        "3. **Avoid hardcoding**: Avoid hardcoding the parent class's name, making the code more flexible and maintainable.\n",
        "\n"
      ],
      "metadata": {
        "id": "Jcp_x9dEg9LP"
      }
    },
    {
      "cell_type": "markdown",
      "source": [
        "# QUESTION 21 What is the significance of the __del__ method in Python?"
      ],
      "metadata": {
        "id": "FBSLw5HrhDxa"
      }
    },
    {
      "cell_type": "markdown",
      "source": [
        "-> The __del__ method in Python is a special method that is called when an object is about to be destroyed. It's also known as a finalizer or destructor.\n",
        "\n",
        "**Purpose**\n",
        "\n",
        "The __del__ method is used to:\n",
        "\n",
        "1. **Release resources**: Release system resources, such as file handles or network connections, when an object is no longer needed.\n",
        "2. **Clean up**: Perform any necessary cleanup actions, such as closing files or releasing locks, when an object is about to be destroyed.\n"
      ],
      "metadata": {
        "id": "PzFh3ZB2hJuE"
      }
    },
    {
      "cell_type": "markdown",
      "source": [
        "# QUESTION 22  What is the difference between @staticmethod and @classmethod in Python?"
      ],
      "metadata": {
        "id": "LHG7ngq5hTzk"
      }
    },
    {
      "cell_type": "markdown",
      "source": [
        "-> In Python, @staticmethod and @classmethod are two types of decorators that can be used to define methods in a class.\n",
        "\n",
        "*@staticmethod*\n",
        "\n",
        "A static method is a method that belongs to a class rather than an instance of the class. It's used to define a method that doesn't depend on the state of the class or instance.\n",
        "\n",
        "\n",
        "\n",
        "\n"
      ],
      "metadata": {
        "id": "AaM71DIGha-M"
      }
    },
    {
      "cell_type": "code",
      "source": [
        "class MathUtils:\n",
        "    @staticmethod\n",
        "    def add(a, b):\n",
        "        return a + b\n",
        "\n",
        "print(MathUtils.add(2, 3))\n",
        "\n"
      ],
      "metadata": {
        "colab": {
          "base_uri": "https://localhost:8080/"
        },
        "id": "YAaA2oLKhjpe",
        "outputId": "f49f64f7-a428-4aa5-8ef7-275bd34fd98a"
      },
      "execution_count": 9,
      "outputs": [
        {
          "output_type": "stream",
          "name": "stdout",
          "text": [
            "5\n"
          ]
        }
      ]
    },
    {
      "cell_type": "markdown",
      "source": [
        "*@classmethod*\n",
        "\n",
        "A class method is a method that is bound to the class rather than an instance of the class. It's used to define a method that operates on the class itself, rather than on instances of the class.\n",
        "\n",
        "\n",
        "\n"
      ],
      "metadata": {
        "id": "3aY4R0fyhpwo"
      }
    },
    {
      "cell_type": "code",
      "source": [
        "class MyClass:\n",
        "    count = 0\n",
        "\n",
        "    def __init__(self):\n",
        "        MyClass.count += 1\n",
        "\n",
        "    @classmethod\n",
        "    def get_count(cls):\n",
        "        return cls.count\n",
        "\n",
        "obj1 = MyClass()\n",
        "obj2 = MyClass()\n",
        "print(MyClass.get_count())\n"
      ],
      "metadata": {
        "colab": {
          "base_uri": "https://localhost:8080/"
        },
        "id": "ddBlvMc1hu3f",
        "outputId": "7b3cef35-01fa-455e-834c-a83a789a8335"
      },
      "execution_count": 10,
      "outputs": [
        {
          "output_type": "stream",
          "name": "stdout",
          "text": [
            "2\n"
          ]
        }
      ]
    },
    {
      "cell_type": "markdown",
      "source": [
        "# QUESTION 23 How does polymorphism work in Python with inheritance?"
      ],
      "metadata": {
        "id": "hAHAZlbih2_w"
      }
    },
    {
      "cell_type": "markdown",
      "source": [
        "-> Polymorphism is the ability of an object to take on multiple forms. In Python, polymorphism can be achieved through inheritance, where a subclass inherits the properties and behavior of a parent class and can also add new behavior or override the behavior of the parent class.\n",
        "How does it work:\n",
        "1. **Method overriding**: Each subclass overrides the area method to provide its own implementation.\n",
        "2. **Dynamic method dispatch**: When we iterate over the shapes list and call the area method on each shape, Python dynamically dispatches the method call to the correct subclass implementation.\n"
      ],
      "metadata": {
        "id": "cfnrmIJfh-Sg"
      }
    },
    {
      "cell_type": "markdown",
      "source": [
        "# QUESTION 24 What is method chaining in Python OOP?"
      ],
      "metadata": {
        "id": "zUqajFHliP6U"
      }
    },
    {
      "cell_type": "markdown",
      "source": [
        "-> Method chaining is a technique in Python Object-Oriented Programming (OOP) where multiple methods are called on an object in a single statement. Each method returns the object itself, allowing the next method to be called on the same object.\n"
      ],
      "metadata": {
        "id": "ulnXBXqviYUc"
      }
    },
    {
      "cell_type": "markdown",
      "source": [
        "# QUESTION 25 What is the purpose of the __call__ method in Python?"
      ],
      "metadata": {
        "id": "dUnTJwi2ifu_"
      }
    },
    {
      "cell_type": "markdown",
      "source": [
        "-> The __call__ method in Python is a special method that allows an instance of a class to be called as a function. It's used to define a class that can be used as a function.\n",
        "\n",
        "Let's consider an example of a Counter class that uses the __call__ method.\n",
        "In this example, the Counter class has a __call__ method that increments the count attribute and returns its new value. This allows instances of the Counter class to be called as functions.\n",
        "\n",
        "\n",
        "\n",
        "\n"
      ],
      "metadata": {
        "id": "O4XhW4b4ilD-"
      }
    },
    {
      "cell_type": "code",
      "source": [
        "class Counter:\n",
        "    def __init__(self):\n",
        "        self.count = 0\n",
        "\n",
        "    def __call__(self):\n",
        "        self.count += 1\n",
        "        return self.count\n",
        "\n",
        "counter = Counter()\n",
        "print(counter())\n",
        "print(counter())\n",
        "print(counter())\n"
      ],
      "metadata": {
        "colab": {
          "base_uri": "https://localhost:8080/"
        },
        "id": "zdPLRWIbjb01",
        "outputId": "642eff8f-b2ad-4da3-de6f-da40dc707299"
      },
      "execution_count": 12,
      "outputs": [
        {
          "output_type": "stream",
          "name": "stdout",
          "text": [
            "1\n",
            "2\n",
            "3\n"
          ]
        }
      ]
    },
    {
      "cell_type": "markdown",
      "source": [
        "# PYTHON OOPs{ASSIGNMENT PRACTICAL}"
      ],
      "metadata": {
        "id": "v263RIELjsDh"
      }
    },
    {
      "cell_type": "markdown",
      "source": [
        "# QUESTION 1 Create a parent class Animal with a method speak() that prints a generic message. Create a child class Dog that overrides the speak() method to print \"Bark!\"."
      ],
      "metadata": {
        "id": "ACm9Jvh1j9TD"
      }
    },
    {
      "cell_type": "code",
      "source": [
        "class Animal:\n",
        "    def speak(self):\n",
        "        print(\"The animal makes a sound.\")\n",
        "\n",
        "class Dog(Animal):\n",
        "    def speak(self):\n",
        "        print(\"Bark!\")\n",
        "\n",
        "# Create instances and call the speak method\n",
        "animal = Animal()\n",
        "dog = Dog()\n",
        "\n",
        "animal.speak()\n",
        "dog.speak()\n"
      ],
      "metadata": {
        "colab": {
          "base_uri": "https://localhost:8080/"
        },
        "id": "3muOEbmQkXpO",
        "outputId": "adede1a3-7a03-438c-d7f0-0eff44186182"
      },
      "execution_count": 13,
      "outputs": [
        {
          "output_type": "stream",
          "name": "stdout",
          "text": [
            "The animal makes a sound.\n",
            "Bark!\n"
          ]
        }
      ]
    },
    {
      "cell_type": "markdown",
      "source": [
        "# QUESTION 2 Write a program to create an abstract class Shape with a method area(). Derive classes Circle and Rectangle from it and implement the area() method in both."
      ],
      "metadata": {
        "id": "iZuDfuufn-vE"
      }
    },
    {
      "cell_type": "code",
      "source": [
        "from abc import ABC, abstractmethod\n",
        "import math\n",
        "\n",
        "class Shape(ABC):\n",
        "    @abstractmethod\n",
        "    def area(self):\n",
        "        pass\n",
        "\n",
        "class Circle(Shape):\n",
        "    def __init__(self, radius):\n",
        "        self.radius = radius\n",
        "\n",
        "    def area(self):\n",
        "        return math.pi * self.radius ** 2\n",
        "\n",
        "class Rectangle(Shape):\n",
        "    def __init__(self, width, height):\n",
        "        self.width = width\n",
        "        self.height = height\n",
        "\n",
        "    def area(self):\n",
        "        return self.width * self.height\n",
        "\n",
        "# Create instances and calculate areas\n",
        "circle = Circle(5)\n",
        "rectangle = Rectangle(4, 6)\n",
        "\n",
        "print(f\"Circle area: {circle.area():.2f}\")\n",
        "print(f\"Rectangle area: {rectangle.area():.2f}\")\n"
      ],
      "metadata": {
        "colab": {
          "base_uri": "https://localhost:8080/"
        },
        "id": "YE36zU8hoFXi",
        "outputId": "849f3396-92cf-40d1-9611-ced94d43b5ed"
      },
      "execution_count": 14,
      "outputs": [
        {
          "output_type": "stream",
          "name": "stdout",
          "text": [
            "Circle area: 78.54\n",
            "Rectangle area: 24.00\n"
          ]
        }
      ]
    },
    {
      "cell_type": "markdown",
      "source": [
        "# QUESTION 3 Implement a multi-level inheritance scenario where a class Vehicle has an attribute type. Derive a class Car and further derive a class ElectricCar that adds a battery attribute"
      ],
      "metadata": {
        "id": "yYzYmgbeoeV2"
      }
    },
    {
      "cell_type": "code",
      "source": [
        "class Vehicle:\n",
        "    def __init__(self, type):\n",
        "        self.type = type\n",
        "\n",
        "    def display_type(self):\n",
        "        print(f\"Vehicle type: {self.type}\")\n",
        "\n",
        "class Car(Vehicle):\n",
        "    def __init__(self, type, brand, model):\n",
        "        super().__init__(type)\n",
        "        self.brand = brand\n",
        "        self.model = model\n",
        "\n",
        "    def display_details(self):\n",
        "        print(f\"Brand: {self.brand}, Model: {self.model}\")\n",
        "\n",
        "class ElectricCar(Car):\n",
        "    def __init__(self, type, brand, model, battery_capacity):\n",
        "        super().__init__(type, brand, model)\n",
        "        self.battery_capacity = battery_capacity\n",
        "\n",
        "    def display_battery_info(self):\n",
        "        print(f\"Battery capacity: {self.battery_capacity} kWh\")\n",
        "\n",
        "# Create an instance of ElectricCar\n",
        "electric_car = ElectricCar(\"Car\", \"Tesla\", \"Model S\", 100)\n",
        "\n",
        "# Display vehicle type\n",
        "electric_car.display_type()\n",
        "\n",
        "# Display car details\n",
        "electric_car.display_details()\n",
        "\n",
        "# Display battery information\n",
        "electric_car.display_battery_info()\n"
      ],
      "metadata": {
        "colab": {
          "base_uri": "https://localhost:8080/"
        },
        "id": "Bb1uqb3Roj8H",
        "outputId": "03d143cd-642a-4383-9c2c-1c7501f98cf2"
      },
      "execution_count": 15,
      "outputs": [
        {
          "output_type": "stream",
          "name": "stdout",
          "text": [
            "Vehicle type: Car\n",
            "Brand: Tesla, Model: Model S\n",
            "Battery capacity: 100 kWh\n"
          ]
        }
      ]
    },
    {
      "cell_type": "markdown",
      "source": [
        "# QUESTION 4 Demonstrate polymorphism by creating a base class Bird with a method fly(). Create two derived classes Sparrow and Penguin that override the fly() method.\n"
      ],
      "metadata": {
        "id": "0A6-l0Y2o4fB"
      }
    },
    {
      "cell_type": "code",
      "source": [
        "class Bird:\n",
        "    def fly(self):\n",
        "        print(\"The bird flies.\")\n",
        "\n",
        "class Sparrow(Bird):\n",
        "    def fly(self):\n",
        "        print(\"The sparrow flutters its wings and flies.\")\n",
        "\n",
        "class Penguin(Bird):\n",
        "    def fly(self):\n",
        "        print(\"Penguins cannot fly. They swim instead.\")\n",
        "\n",
        "# Create instances and demonstrate polymorphism\n",
        "birds = [Sparrow(), Penguin(), Bird()]\n",
        "\n",
        "for bird in birds:\n",
        "    bird.fly()\n"
      ],
      "metadata": {
        "colab": {
          "base_uri": "https://localhost:8080/"
        },
        "id": "XdTn5mQSpATT",
        "outputId": "3338329f-6d30-4c79-9a1f-5f99779a725d"
      },
      "execution_count": 16,
      "outputs": [
        {
          "output_type": "stream",
          "name": "stdout",
          "text": [
            "The sparrow flutters its wings and flies.\n",
            "Penguins cannot fly. They swim instead.\n",
            "The bird flies.\n"
          ]
        }
      ]
    },
    {
      "cell_type": "markdown",
      "source": [
        "# QUESTION 5 Write a program to demonstrate encapsulation by creating a class BankAccount with private attributes balance and methods to deposit, withdraw, and check balance."
      ],
      "metadata": {
        "id": "d6mrfrhupK58"
      }
    },
    {
      "cell_type": "code",
      "source": [
        "class BankAccount:\n",
        "    def __init__(self, initial_balance=0):\n",
        "        self.__balance = initial_balance\n",
        "\n",
        "    def deposit(self, amount):\n",
        "        if amount > 0:\n",
        "            self.__balance += amount\n",
        "            print(f\"Deposited ${amount:.2f}. New balance: ${self.__balance:.2f}\")\n",
        "        else:\n",
        "            print(\"Invalid deposit amount.\")\n",
        "\n",
        "    def withdraw(self, amount):\n",
        "        if 0 < amount <= self.__balance:\n",
        "            self.__balance -= amount\n",
        "            print(f\"Withdrew ${amount:.2f}. New balance: ${self.__balance:.2f}\")\n",
        "        elif amount <= 0:\n",
        "            print(\"Invalid withdrawal amount.\")\n",
        "        else:\n",
        "            print(\"Insufficient funds.\")\n",
        "\n",
        "    def check_balance(self):\n",
        "        print(f\"Current balance: ${self.__balance:.2f}\")\n",
        "\n",
        "# Create an instance and perform transactions\n",
        "account = BankAccount(1000)\n",
        "account.check_balance()\n",
        "account.deposit(500)\n",
        "account.withdraw(200)\n",
        "account.check_balance()\n"
      ],
      "metadata": {
        "colab": {
          "base_uri": "https://localhost:8080/"
        },
        "id": "q-Y2IvMHpRiM",
        "outputId": "aef8c3eb-db1f-4f5c-83d9-888afdca19f9"
      },
      "execution_count": 17,
      "outputs": [
        {
          "output_type": "stream",
          "name": "stdout",
          "text": [
            "Current balance: $1000.00\n",
            "Deposited $500.00. New balance: $1500.00\n",
            "Withdrew $200.00. New balance: $1300.00\n",
            "Current balance: $1300.00\n"
          ]
        }
      ]
    },
    {
      "cell_type": "markdown",
      "source": [
        "# QUESTION 6  Demonstrate runtime polymorphism using a method play() in a base class Instrument. Derive classes Guitar and Piano that implement their own version of play()."
      ],
      "metadata": {
        "id": "_eHM2NG2pcR-"
      }
    },
    {
      "cell_type": "code",
      "source": [
        "class Instrument:\n",
        "    def play(self):\n",
        "        print(\"The instrument is playing.\")\n",
        "\n",
        "class Guitar(Instrument):\n",
        "    def play(self):\n",
        "        print(\"The guitar is strumming.\")\n",
        "\n",
        "class Piano(Instrument):\n",
        "    def play(self):\n",
        "        print(\"The piano is playing a melody.\")\n",
        "\n",
        "# Create instances and demonstrate runtime polymorphism\n",
        "instruments = [Guitar(), Piano(), Instrument()]\n",
        "\n",
        "for instrument in instruments:\n",
        "    instrument.play()\n",
        "\n"
      ],
      "metadata": {
        "colab": {
          "base_uri": "https://localhost:8080/"
        },
        "id": "MYwGCu2CpiwX",
        "outputId": "778abe15-8284-45bb-a36c-123e400b6154"
      },
      "execution_count": 18,
      "outputs": [
        {
          "output_type": "stream",
          "name": "stdout",
          "text": [
            "The guitar is strumming.\n",
            "The piano is playing a melody.\n",
            "The instrument is playing.\n"
          ]
        }
      ]
    },
    {
      "cell_type": "markdown",
      "source": [
        "# QUESTION 7  Create a class MathOperations with a class method add_numbers() to add two numbers and a static method subtract_numbers() to subtract two numbers."
      ],
      "metadata": {
        "id": "eiNM6ff2ptSR"
      }
    },
    {
      "cell_type": "code",
      "source": [
        "class MathOperations:\n",
        "    @classmethod\n",
        "    def add_numbers(cls, num1, num2):\n",
        "        return num1 + num2\n",
        "\n",
        "    @staticmethod\n",
        "    def subtract_numbers(num1, num2):\n",
        "        return num1 - num2\n",
        "\n",
        "# Call the class method\n",
        "result_add = MathOperations.add_numbers(10, 5)\n",
        "print(f\"Addition result: {result_add}\")\n",
        "\n",
        "# Call the static method\n",
        "result_subtract = MathOperations.subtract_numbers(10, 5)\n",
        "print(f\"Subtraction result: {result_subtract}\")\n"
      ],
      "metadata": {
        "colab": {
          "base_uri": "https://localhost:8080/"
        },
        "id": "63KV38MFp1T6",
        "outputId": "cd932e39-d1ad-4811-b25a-a0810d23fe1c"
      },
      "execution_count": 19,
      "outputs": [
        {
          "output_type": "stream",
          "name": "stdout",
          "text": [
            "Addition result: 15\n",
            "Subtraction result: 5\n"
          ]
        }
      ]
    },
    {
      "cell_type": "markdown",
      "source": [
        "# QUESTION 8  Implement a class Person with a class method to count the total number of persons created.\n",
        "\n",
        "\n"
      ],
      "metadata": {
        "id": "r0kihv1Rp9e8"
      }
    },
    {
      "cell_type": "code",
      "source": [
        "class Person:\n",
        "    # Class variable to keep track of the number of Person instances\n",
        "    count = 0\n",
        "\n",
        "    def __init__(self, name):\n",
        "        self.name = name\n",
        "        Person.count += 1  # Increment the count whenever a new instance is created\n",
        "\n",
        "    @classmethod\n",
        "    def total_persons(cls):\n",
        "        return cls.count  # Return the total count of Person instances\n",
        "\n",
        "# Example usage\n",
        "if __name__ == \"__main__\":\n",
        "    person1 = Person(\"Alice\")\n",
        "    person2 = Person(\"Bob\")\n",
        "    person3 = Person(\"Charlie\")\n",
        "\n",
        "    print(f\"Total number of persons created: {Person.total_persons()}\")\n"
      ],
      "metadata": {
        "colab": {
          "base_uri": "https://localhost:8080/"
        },
        "id": "63Dxu8cqqDTF",
        "outputId": "9208816c-2549-4a33-bdc8-ccee1b5e3523"
      },
      "execution_count": 20,
      "outputs": [
        {
          "output_type": "stream",
          "name": "stdout",
          "text": [
            "Total number of persons created: 3\n"
          ]
        }
      ]
    },
    {
      "cell_type": "markdown",
      "source": [
        "# QUESTION 9 Write a class Fraction with attributes numerator and denominator. Override the str method to display the fraction as \"numerator/denominator."
      ],
      "metadata": {
        "id": "vJR8QRZhqKbl"
      }
    },
    {
      "cell_type": "code",
      "source": [
        "class Fraction:\n",
        "    def __init__(self, numerator, denominator):\n",
        "        if denominator == 0:\n",
        "            raise ZeroDivisionError(\"Denominator cannot be zero\")\n",
        "        self.numerator = numerator\n",
        "        self.denominator = denominator\n",
        "\n",
        "    def __str__(self):\n",
        "        return f\"{self.numerator}/{self.denominator}\"\n",
        "\n",
        "# Create instances and display fractions\n",
        "fraction1 = Fraction(1, 2)\n",
        "fraction2 = Fraction(3, 4)\n",
        "\n",
        "print(fraction1)\n",
        "print(fraction2)"
      ],
      "metadata": {
        "colab": {
          "base_uri": "https://localhost:8080/"
        },
        "id": "VHJwxW3fqSV_",
        "outputId": "3af090d5-291d-4fce-a009-cbbac663aa3d"
      },
      "execution_count": 21,
      "outputs": [
        {
          "output_type": "stream",
          "name": "stdout",
          "text": [
            "1/2\n",
            "3/4\n"
          ]
        }
      ]
    },
    {
      "cell_type": "markdown",
      "source": [
        "# QUESTION 10 Demonstrate operator overloading by creating a class Vector and overriding the add method to add two vectors."
      ],
      "metadata": {
        "id": "MmT2q07tqbdX"
      }
    },
    {
      "cell_type": "code",
      "source": [
        "class Vector:\n",
        "    def __init__(self, x, y):\n",
        "        self.x = x\n",
        "        self.y = y\n",
        "\n",
        "    def __add__(self, other):\n",
        "        if isinstance(other, Vector):\n",
        "            return Vector(self.x + other.x, self.y + other.y)\n",
        "        return NotImplemented\n",
        "\n",
        "    def __repr__(self):\n",
        "        return f\"Vector({self.x}, {self.y})\"\n",
        "\n",
        "# Example usage\n",
        "if __name__ == \"__main__\":\n",
        "    vector1 = Vector(2, 3)\n",
        "    vector2 = Vector(4, 5)\n",
        "\n",
        "    result_vector = vector1 + vector2  # Using the overloaded + operator\n",
        "    print(f\"Result of adding {vector1} and {vector2} is {result_vector}\")\n"
      ],
      "metadata": {
        "colab": {
          "base_uri": "https://localhost:8080/"
        },
        "id": "sbrUDYorqrXS",
        "outputId": "73260a25-57c4-49d3-a381-416117851d51"
      },
      "execution_count": 22,
      "outputs": [
        {
          "output_type": "stream",
          "name": "stdout",
          "text": [
            "Result of adding Vector(2, 3) and Vector(4, 5) is Vector(6, 8)\n"
          ]
        }
      ]
    },
    {
      "cell_type": "markdown",
      "source": [
        "# QUESTION 11  Create a class Person with attributes name and age. Add a method greet() that prints \"Hello, my name is {name} and I am {age} years old.\""
      ],
      "metadata": {
        "id": "VsAtOXKXqtKR"
      }
    },
    {
      "cell_type": "code",
      "source": [
        "class Person:\n",
        "    def __init__(self, name, age):\n",
        "        self.name = name\n",
        "        self.age = age\n",
        "\n",
        "    def greet(self):\n",
        "        print(f\"Hello, my name is {self.name} and I am {self.age} years old.\")\n",
        "\n",
        "# Example usage\n",
        "if __name__ == \"__main__\":\n",
        "    person1 = Person(\"Ravi\", 25)\n",
        "    person2 = Person(\"Raj\", 22)\n",
        "\n",
        "    person1.greet()\n",
        "    person2.greet()\n"
      ],
      "metadata": {
        "colab": {
          "base_uri": "https://localhost:8080/"
        },
        "id": "K9b16p43q9g0",
        "outputId": "a55ede44-d3de-42cf-c7c6-9831b038e26b"
      },
      "execution_count": 23,
      "outputs": [
        {
          "output_type": "stream",
          "name": "stdout",
          "text": [
            "Hello, my name is Ravi and I am 25 years old.\n",
            "Hello, my name is Raj and I am 22 years old.\n"
          ]
        }
      ]
    },
    {
      "cell_type": "markdown",
      "source": [
        "# QUESTION 12  Implement a class Student with attributes name and grades. Create a method average_grade() to compute the average of the grades."
      ],
      "metadata": {
        "id": "8_At8o76rQbH"
      }
    },
    {
      "cell_type": "code",
      "source": [
        "class Student:\n",
        "    def __init__(self, name, grades):\n",
        "        self.name = name\n",
        "        self.grades = grades  # grades should be a list of numerical values\n",
        "\n",
        "    def average_grade(self):\n",
        "        if not self.grades:  # Check if the grades list is empty\n",
        "            return 0\n",
        "        return sum(self.grades) / len(self.grades)  # Calculate the average\n",
        "\n",
        "# Example usage\n",
        "if __name__ == \"__main__\":\n",
        "    student1 = Student(\"Riya\", [85, 90, 78, 92])\n",
        "    student2 = Student(\"Ravi\", [70, 75, 80, 85, 90])\n",
        "\n",
        "    print(f\"{student1.name}'s average grade: {student1.average_grade():.2f}\")\n",
        "    print(f\"{student2.name}'s average grade: {student2.average_grade():.2f}\")\n"
      ],
      "metadata": {
        "colab": {
          "base_uri": "https://localhost:8080/"
        },
        "id": "J8BMbxF7rXEY",
        "outputId": "20a752bc-963b-4c79-c9a7-d4ee4e7ccace"
      },
      "execution_count": 24,
      "outputs": [
        {
          "output_type": "stream",
          "name": "stdout",
          "text": [
            "Riya's average grade: 86.25\n",
            "Ravi's average grade: 80.00\n"
          ]
        }
      ]
    },
    {
      "cell_type": "markdown",
      "source": [
        "# QUESTION 13 Create a class Rectangle with methods set_dimensions() to set the dimensions and area() to calculate the area."
      ],
      "metadata": {
        "id": "secqU_KArspE"
      }
    },
    {
      "cell_type": "code",
      "source": [
        "class Rectangle:\n",
        "    def __init__(self):\n",
        "        self.width = 0\n",
        "        self.height = 0\n",
        "\n",
        "    def set_dimensions(self, width, height):\n",
        "        if width < 0 or height < 0:\n",
        "            raise ValueError(\"Width and height must be non-negative\")\n",
        "        self.width = width\n",
        "        self.height = height\n",
        "\n",
        "    def area(self):\n",
        "        return self.width * self.height\n",
        "\n",
        "# Create an instance and calculate area\n",
        "rectangle = Rectangle()\n",
        "rectangle.set_dimensions(4, 5)\n",
        "print(f\"Width: {rectangle.width}, Height: {rectangle.height}\")\n",
        "print(f\"Area: {rectangle.area()}\")\n"
      ],
      "metadata": {
        "colab": {
          "base_uri": "https://localhost:8080/"
        },
        "id": "skx0o1B9rzos",
        "outputId": "eb74c06d-be7d-4bdb-f391-75c1b913bf08"
      },
      "execution_count": 25,
      "outputs": [
        {
          "output_type": "stream",
          "name": "stdout",
          "text": [
            "Width: 4, Height: 5\n",
            "Area: 20\n"
          ]
        }
      ]
    },
    {
      "cell_type": "markdown",
      "source": [
        "# QUESTION 14 Create a class Employee with a method calculate_salary() that computes the salary based on hours worked and hourly rate. Create a derived class Manager that adds a bonus to the salary."
      ],
      "metadata": {
        "id": "WJ7PBeZVr8LE"
      }
    },
    {
      "cell_type": "code",
      "source": [
        "class Employee:\n",
        "    def __init__(self, name, hours_worked, hourly_rate):\n",
        "        self.name = name\n",
        "        self.hours_worked = hours_worked\n",
        "        self.hourly_rate = hourly_rate\n",
        "\n",
        "    def calculate_salary(self):\n",
        "        return self.hours_worked * self.hourly_rate\n",
        "\n",
        "class Manager(Employee):\n",
        "    def __init__(self, name, hours_worked, hourly_rate, bonus):\n",
        "        super().__init__(name, hours_worked, hourly_rate)\n",
        "        self.bonus = bonus\n",
        "\n",
        "    def calculate_salary(self):\n",
        "        base_salary = super().calculate_salary()  # Call the base class method\n",
        "        return base_salary + self.bonus  # Add the bonus to the base salary\n",
        "\n",
        "# Example usage\n",
        "if __name__ == \"__main__\":\n",
        "    employee = Employee(\"Riya\", 40, 20)  # 40 hours at $20/hour\n",
        "    manager = Manager(\"Ravi\", 40, 30, 500)  # 40 hours at $30/hour with a $500 bonus\n",
        "\n",
        "    print(f\"{employee.name}'s salary: ${employee.calculate_salary():.2f}\")\n",
        "    print(f\"{manager.name}'s salary: ${manager.calculate_salary():.2f}\")\n"
      ],
      "metadata": {
        "colab": {
          "base_uri": "https://localhost:8080/"
        },
        "id": "yzaRAnu0sFGI",
        "outputId": "27e2a3aa-7f2b-4b66-b2f9-2ff257165154"
      },
      "execution_count": 27,
      "outputs": [
        {
          "output_type": "stream",
          "name": "stdout",
          "text": [
            "Riya's salary: $800.00\n",
            "Ravi's salary: $1700.00\n"
          ]
        }
      ]
    },
    {
      "cell_type": "markdown",
      "source": [
        "# QUESTION 15 Create a class Product with attributes name, price, and quantity. Implement a method total_price() that calculates the total price of the product.\n",
        "\n",
        "\n"
      ],
      "metadata": {
        "id": "khjQT0ZtsZkw"
      }
    },
    {
      "cell_type": "code",
      "source": [
        "class Product:\n",
        "    def __init__(self, name, price, quantity):\n",
        "        self.name = name\n",
        "        self.price = price\n",
        "        self.quantity = quantity\n",
        "\n",
        "    def total_price(self):\n",
        "        return self.price * self.quantity\n",
        "\n",
        "    def __str__(self):\n",
        "        return f\"Product: {self.name}, Price: ${self.price:.2f}, Quantity: {self.quantity}\"\n",
        "\n",
        "# Create an instance and calculate total price\n",
        "product = Product(\"Apple Watch\", 299.99, 2)\n",
        "print(product)\n",
        "print(f\"Total Price: ${product.total_price():.2f}\")\n",
        "\n"
      ],
      "metadata": {
        "colab": {
          "base_uri": "https://localhost:8080/"
        },
        "id": "VtOAhAk4snCz",
        "outputId": "15976775-70cb-4255-92af-34fda7595efe"
      },
      "execution_count": 28,
      "outputs": [
        {
          "output_type": "stream",
          "name": "stdout",
          "text": [
            "Product: Apple Watch, Price: $299.99, Quantity: 2\n",
            "Total Price: $599.98\n"
          ]
        }
      ]
    },
    {
      "cell_type": "markdown",
      "source": [
        "# QUESTION 16  Create a class Animal with an abstract method sound(). Create two derived classes Cow and Sheep that implement the sound() method."
      ],
      "metadata": {
        "id": "bqvtvuAGso-T"
      }
    },
    {
      "cell_type": "code",
      "source": [
        "from abc import ABC, abstractmethod\n",
        "\n",
        "class Animal(ABC):\n",
        "    @abstractmethod\n",
        "    def sound(self):\n",
        "        pass\n",
        "\n",
        "class Cow(Animal):\n",
        "    def sound(self):\n",
        "        return \"Moo\"\n",
        "\n",
        "class Sheep(Animal):\n",
        "    def sound(self):\n",
        "        return \"Baa\"\n",
        "\n",
        "# Create instances and make sounds\n",
        "cow = Cow()\n",
        "sheep = Sheep()\n",
        "\n",
        "print(f\"Cow says: {cow.sound()}\")\n",
        "print(f\"Sheep says: {sheep.sound()}\")\n"
      ],
      "metadata": {
        "colab": {
          "base_uri": "https://localhost:8080/"
        },
        "id": "nSVD2YtIswsL",
        "outputId": "e6025e2b-f0f4-4ef6-fff5-17eed1f2dd0f"
      },
      "execution_count": 29,
      "outputs": [
        {
          "output_type": "stream",
          "name": "stdout",
          "text": [
            "Cow says: Moo\n",
            "Sheep says: Baa\n"
          ]
        }
      ]
    },
    {
      "cell_type": "markdown",
      "source": [
        "# QUESTION 17 Create a class Book with attributes title, author, and year_published. Add a method get_book_info() that returns a formatted string with the book's details."
      ],
      "metadata": {
        "id": "_f0efIuhs5Kl"
      }
    },
    {
      "cell_type": "code",
      "source": [
        "class Book:\n",
        "    def __init__(self, title, author, year_published):\n",
        "        self.title = title\n",
        "        self.author = author\n",
        "        self.year_published = year_published\n",
        "\n",
        "    def get_book_info(self):\n",
        "        return f\"'{self.title}' by {self.author}, published in {self.year_published}.\"\n",
        "\n",
        "# Example usage\n",
        "if __name__ == \"__main__\":\n",
        "    book1 = Book(\"To Kill a Mockingbird\", \"Harper Lee\", 1960)\n",
        "    book2 = Book(\"1984\", \"George Orwell\", 1949)\n",
        "\n",
        "    print(book1.get_book_info())  # Output: 'To Kill a Mockingbird' by Harper Lee, published in 1960.\n",
        "    print(book2.get_book_info())  # Output: '1984' by George Orwell, published in 1949.\n"
      ],
      "metadata": {
        "colab": {
          "base_uri": "https://localhost:8080/"
        },
        "id": "B83e1zgvtWmp",
        "outputId": "eaf327f4-0cf7-4b49-f53b-f4eb32fc3912"
      },
      "execution_count": 31,
      "outputs": [
        {
          "output_type": "stream",
          "name": "stdout",
          "text": [
            "'To Kill a Mockingbird' by Harper Lee, published in 1960.\n",
            "'1984' by George Orwell, published in 1949.\n"
          ]
        }
      ]
    },
    {
      "cell_type": "markdown",
      "source": [
        "# QUESTION 18 Create a class House with attributes address and price. Create a derived class Mansion that adds an attribute number_of_rooms."
      ],
      "metadata": {
        "id": "xmwb8h_htZM5"
      }
    },
    {
      "cell_type": "code",
      "source": [
        "class House:\n",
        "    def __init__(self, address, price):\n",
        "        self.address = address\n",
        "        self.price = price\n",
        "\n",
        "    def __str__(self):\n",
        "        return f\"House(Address: {self.address}, Price: ${self.price})\"\n",
        "\n",
        "\n",
        "class Mansion(House):\n",
        "    def __init__(self, address, price, number_of_rooms):\n",
        "        super().__init__(address, price)\n",
        "        self.number_of_rooms = number_of_rooms\n",
        "\n",
        "    def __str__(self):\n",
        "        return f\"Mansion(Address: {self.address}, Price: ${self.price}, Rooms: {self.number_of_rooms})\"\n",
        "\n",
        "\n",
        "# Example usage:\n",
        "house = House(\"123 Main St\", 250000)\n",
        "print(house)\n",
        "\n",
        "mansion = Mansion(\"456 Luxury Ave\", 1500000, 10)\n",
        "print(mansion)\n"
      ],
      "metadata": {
        "colab": {
          "base_uri": "https://localhost:8080/"
        },
        "id": "vNRpMkiytkcf",
        "outputId": "4fb9aeaa-d352-48bb-d0c2-50118cca271a"
      },
      "execution_count": 32,
      "outputs": [
        {
          "output_type": "stream",
          "name": "stdout",
          "text": [
            "House(Address: 123 Main St, Price: $250000)\n",
            "Mansion(Address: 456 Luxury Ave, Price: $1500000, Rooms: 10)\n"
          ]
        }
      ]
    }
  ]
}